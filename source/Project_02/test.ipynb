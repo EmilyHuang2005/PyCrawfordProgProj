{
 "cells": [
  {
   "cell_type": "code",
   "execution_count": 3,
   "metadata": {},
   "outputs": [],
   "source": [
    "import numpy as np\n",
    "from molmass import ELEMENTS\n",
    "import project_02 as p2"
   ]
  },
  {
   "cell_type": "code",
   "execution_count": 4,
   "metadata": {},
   "outputs": [
    {
     "name": "stdout",
     "output_type": "stream",
     "text": [
      "[8 1 1]\n"
     ]
    }
   ],
   "source": [
    "mol = p2.Molecule()\n",
    "mol.read_dat('input/h2o_geom.txt')\n",
    "print(mol.charges)"
   ]
  },
  {
   "cell_type": "code",
   "execution_count": 5,
   "metadata": {},
   "outputs": [
    {
     "name": "stdout",
     "output_type": "stream",
     "text": [
      "[[ 0.09276434  0.          0.         -0.04638217  0.          0.\n",
      "  -0.04638217  0.          0.        ]\n",
      " [ 0.          0.31713271  0.          0.         -0.15856636  0.0800202\n",
      "   0.         -0.15856636 -0.0800202 ]\n",
      " [ 0.          0.          0.28009073  0.          0.03477659 -0.14004536\n",
      "   0.         -0.03477659 -0.14004536]\n",
      " [-0.04638217  0.          0.          0.05146682  0.          0.\n",
      "  -0.00508465  0.          0.        ]\n",
      " [ 0.         -0.15856636  0.03477659  0.          0.17300755 -0.05739839\n",
      "   0.         -0.0144412   0.02262181]\n",
      " [ 0.          0.0800202  -0.14004536  0.         -0.05739839  0.12683735\n",
      "   0.         -0.02262181  0.01320802]\n",
      " [-0.04638217  0.          0.         -0.00508465  0.          0.\n",
      "   0.05146682  0.          0.        ]\n",
      " [ 0.         -0.15856636 -0.03477659  0.         -0.0144412  -0.02262181\n",
      "   0.          0.17300755  0.05739839]\n",
      " [ 0.         -0.0800202  -0.14004536  0.          0.02262181  0.01320802\n",
      "   0.          0.05739839  0.12683735]]\n"
     ]
    }
   ],
   "source": [
    "mol.obtain_hessian('input/h2o_hessian.txt')\n",
    "print(mol.hess)"
   ]
  },
  {
   "cell_type": "code",
   "execution_count": 9,
   "metadata": {},
   "outputs": [
    {
     "data": {
      "text/plain": [
       "array([[ 0.00579799,  0.        ,  0.        , -0.01154999,  0.        ,\n",
       "         0.        , -0.01154999,  0.        ,  0.        ],\n",
       "       [ 0.        ,  0.01982153,  0.        ,  0.        , -0.03948586,\n",
       "         0.01992646,  0.        , -0.03948586, -0.01992646],\n",
       "       [ 0.        ,  0.        ,  0.01750632,  0.        ,  0.00865999,\n",
       "        -0.0348738 ,  0.        , -0.00865999, -0.0348738 ],\n",
       "       [-0.01154999,  0.        ,  0.        ,  0.05106135,  0.        ,\n",
       "         0.        , -0.00504459,  0.        ,  0.        ],\n",
       "       [ 0.        , -0.03948586,  0.00865999,  0.        ,  0.17164452,\n",
       "        -0.05694619,  0.        , -0.01432742,  0.02244358],\n",
       "       [ 0.        ,  0.01992646, -0.0348738 ,  0.        , -0.05694619,\n",
       "         0.12583807,  0.        , -0.02244358,  0.01310396],\n",
       "       [-0.01154999,  0.        ,  0.        , -0.00504459,  0.        ,\n",
       "         0.        ,  0.05106135,  0.        ,  0.        ],\n",
       "       [ 0.        , -0.03948586, -0.00865999,  0.        , -0.01432742,\n",
       "        -0.02244358,  0.        ,  0.17164452,  0.05694619],\n",
       "       [ 0.        , -0.01992646, -0.0348738 ,  0.        ,  0.02244358,\n",
       "         0.01310396,  0.        ,  0.05694619,  0.12583807]])"
      ]
     },
     "execution_count": 9,
     "metadata": {},
     "output_type": "execute_result"
    }
   ],
   "source": [
    "masses = np.repeat(np.array([1 / np.sqrt(ELEMENTS[c].mass) for c in mol.charges]), 3)\n",
    "np.einsum('i,j,ij->ij', masses, masses, mol.hess)"
   ]
  },
  {
   "cell_type": "markdown",
   "metadata": {},
   "source": []
  },
  {
   "cell_type": "code",
   "execution_count": null,
   "metadata": {},
   "outputs": [],
   "source": []
  }
 ],
 "metadata": {
  "kernelspec": {
   "display_name": "base",
   "language": "python",
   "name": "python3"
  },
  "language_info": {
   "codemirror_mode": {
    "name": "ipython",
    "version": 3
   },
   "file_extension": ".py",
   "mimetype": "text/x-python",
   "name": "python",
   "nbconvert_exporter": "python",
   "pygments_lexer": "ipython3",
   "version": "3.12.2"
  }
 },
 "nbformat": 4,
 "nbformat_minor": 2
}
