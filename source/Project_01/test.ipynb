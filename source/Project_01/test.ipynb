{
 "cells": [
  {
   "cell_type": "code",
   "execution_count": 2,
   "metadata": {},
   "outputs": [],
   "source": [
    "import numpy as np\n",
    "import itertools\n",
    "from molmass import ELEMENTS\n",
    "import project_01 as p1"
   ]
  },
  {
   "cell_type": "code",
   "execution_count": 5,
   "metadata": {},
   "outputs": [
    {
     "name": "stdout",
     "output_type": "stream",
     "text": [
      "[6 6 8 1 1 1 1]\n"
     ]
    }
   ],
   "source": [
    "mol = p1.Molecule()\n",
    "file = 'input/acetaldehyde.dat'\n",
    "mol.read_dat(file)\n",
    "print(mol.charges)"
   ]
  },
  {
   "cell_type": "code",
   "execution_count": 15,
   "metadata": {},
   "outputs": [
    {
     "name": "stdout",
     "output_type": "stream",
     "text": [
      "[0.64475065 0.         2.31636762]\n"
     ]
    }
   ],
   "source": [
    "com = mol.center_of_mass()\n",
    "print(com)"
   ]
  },
  {
   "cell_type": "code",
   "execution_count": 16,
   "metadata": {},
   "outputs": [
    {
     "name": "stdout",
     "output_type": "stream",
     "text": [
      "[[ 0.          0.          0.        ]\n",
      " [ 0.          0.          2.84511213]\n",
      " [ 1.89911596  0.          4.13906253]\n",
      " [-1.89404831  0.          3.74768867]\n",
      " [ 1.94250082  0.         -0.70114598]\n",
      " [-1.00729547 -1.66997184 -0.70591697]\n",
      " [-1.00729547  1.66997184 -0.70591697]]\n",
      "[[-0.64475065  0.         -2.31636762]\n",
      " [-0.64475065  0.          0.52874451]\n",
      " [ 1.25436532  0.          1.82269491]\n",
      " [-2.53879895  0.          1.43132105]\n",
      " [ 1.29775017  0.         -3.0175136 ]\n",
      " [-1.65204611 -1.66997184 -3.02228459]\n",
      " [-1.65204611  1.66997184 -3.02228459]]\n"
     ]
    }
   ],
   "source": [
    "trans_coords = mol.coordinates - com\n",
    "print(mol.coordinates)\n",
    "print(trans_coords)\n",
    "weights = np.array([ELEMENTS[charge].mass for charge in mol.charges])"
   ]
  },
  {
   "cell_type": "code",
   "execution_count": 41,
   "metadata": {},
   "outputs": [
    {
     "name": "stdout",
     "output_type": "stream",
     "text": [
      "[[ -48.85586414   -0.          -52.87851329]\n",
      " [  -0.           -5.62190373   -0.        ]\n",
      " [ -52.87851329   -0.         -150.61179651]]\n"
     ]
    },
    {
     "data": {
      "text/plain": [
       "205.08956437777633"
      ]
     },
     "execution_count": 41,
     "metadata": {},
     "output_type": "execute_result"
    }
   ],
   "source": [
    "tensor = - np.einsum('i, ix, iy -> xy', weights, trans_coords, trans_coords)\n",
    "print(tensor)\n",
    "np.trace(tensor)\n",
    "np.trace(abs(tensor))"
   ]
  },
  {
   "cell_type": "code",
   "execution_count": 42,
   "metadata": {},
   "outputs": [
    {
     "data": {
      "text/plain": [
       "array([ 31.97518751, 178.73628059, 199.46766065])"
      ]
     },
     "execution_count": 42,
     "metadata": {},
     "output_type": "execute_result"
    }
   ],
   "source": [
    "np.fill_diagonal(tensor, tensor.diagonal() + np.trace(np.abs(tensor)))\n",
    "tensor\n",
    "np.linalg.eigvalsh(tensor)\n"
   ]
  },
  {
   "cell_type": "code",
   "execution_count": 3,
   "metadata": {},
   "outputs": [
    {
     "name": "stdout",
     "output_type": "stream",
     "text": [
      "===Bond Angle===\n",
      "(0, 1, 2): 124.26830826072018 degrees\n",
      "(0, 1, 3): 115.4793409840136 degrees\n",
      "(1, 0, 4): 109.84705594988364 degrees\n",
      "(1, 0, 5): 109.89840610470087 degrees\n",
      "(1, 0, 6): 109.89840610470087 degrees\n",
      "(2, 1, 3): 120.25235075526628 degrees\n",
      "(4, 0, 5): 109.95368230959265 degrees\n",
      "(4, 0, 6): 109.95368230959265 degrees\n",
      "(5, 0, 6): 107.25264587722444 degrees\n",
      "===Bond Length===\n",
      "  0 - 1:      2.84511 Bohr\n",
      "  0 - 2:      4.55395 Bohr\n",
      "  0 - 3:      4.19912 Bohr\n",
      "  0 - 4:      2.06517 Bohr\n",
      "  0 - 5:      2.07407 Bohr\n",
      "  0 - 6:      2.07407 Bohr\n",
      "  1 - 2:      2.29803 Bohr\n",
      "  1 - 3:      2.09811 Bohr\n",
      "  1 - 4:      4.04342 Bohr\n",
      "  1 - 5:      4.05133 Bohr\n",
      "  1 - 6:      4.05133 Bohr\n",
      "  2 - 3:      3.81330 Bohr\n",
      "  2 - 4:      4.84040 Bohr\n",
      "  2 - 5:      5.89151 Bohr\n",
      "  2 - 6:      5.89151 Bohr\n",
      "  3 - 4:      5.87463 Bohr\n",
      "  3 - 5:      4.83836 Bohr\n",
      "  3 - 6:      4.83836 Bohr\n",
      "  4 - 5:      3.38971 Bohr\n",
      "  4 - 6:      3.38971 Bohr\n",
      "  5 - 6:      3.33994 Bohr\n",
      "===Out of Plane Angle===\n",
      "(0, 2, 1, 3): 0.0 degrees\n",
      "(1, 4, 0, 5): -53.67877799128512 degrees\n",
      "(1, 4, 0, 6): 53.67877799128512 degrees\n",
      "(1, 5, 0, 6): -54.977064358847294 degrees\n",
      "(2, 0, 1, 3): 0.0 degrees\n",
      "(3, 0, 1, 2): 0.0 degrees\n",
      "(4, 1, 0, 5): 53.65153412170983 degrees\n",
      "(4, 1, 0, 6): -53.65153412170983 degrees\n",
      "(4, 5, 0, 6): 54.86999159103629 degrees\n",
      "(5, 1, 0, 4): -53.62632293861221 degrees\n",
      "(5, 1, 0, 6): 56.27711186678123 degrees\n",
      "(5, 4, 0, 6): -56.19462077948277 degrees\n",
      "(6, 1, 0, 4): 53.62632293861221 degrees\n",
      "(6, 1, 0, 5): -56.27711186678123 degrees\n",
      "(6, 4, 0, 5): 56.19462077948277 degrees\n",
      "===Dihedral Angle===\n",
      "(0, 1, 2, 3): 180.0 degrees\n",
      "(0, 1, 3, 2): 180.0 degrees\n",
      "(1, 0, 4, 5): 121.06434361768862 degrees\n",
      "(1, 0, 4, 6): 121.06434361768862 degrees\n",
      "(1, 0, 5, 4): 121.03351282641862 degrees\n",
      "(1, 0, 5, 6): 119.43447324066057 degrees\n",
      "(1, 0, 6, 4): 121.03351282641862 degrees\n",
      "(1, 0, 6, 5): 119.43447324066057 degrees\n",
      "(2, 0, 1, 3): 180.0 degrees\n",
      "(2, 0, 1, 4): 0.0 degrees\n",
      "(2, 0, 1, 5): 121.09758617250608 degrees\n",
      "(2, 0, 1, 6): 121.09758617250608 degrees\n",
      "(3, 0, 1, 4): 180.0 degrees\n",
      "(3, 0, 1, 5): 58.90241382749393 degrees\n",
      "(3, 0, 1, 6): 58.90241382749393 degrees\n",
      "(4, 0, 1, 5): 121.09758617250608 degrees\n",
      "(4, 0, 1, 6): 121.09758617250608 degrees\n",
      "(4, 0, 5, 6): 119.53201393292078 degrees\n",
      "(4, 0, 6, 5): 119.53201393292078 degrees\n",
      "(5, 0, 1, 6): 117.80482765498776 degrees\n",
      "(5, 0, 4, 6): 117.87131276462274 degrees\n",
      "===Center of Mass===\n",
      "6.44750646e-01 0.00000000e+00 2.31636762e+00\n",
      "===Moment of Inertia===\n",
      "3.19751875e+01 1.78736281e+02 1.99467661e+02 amu bohr^2\n",
      "8.95396445e+00 5.00512562e+01 5.58566339e+01 amu angstrom^2\n",
      "1.48684078e-39 8.31120663e-39 9.27521227e-39 g cm^2\n",
      "Type of inertia: asymmetric\n",
      "Rotational constants in cm^-1: [1.88270004 0.33680731 0.30180174]\n",
      "Rotational constants in MHz: [0.0018827  0.00033681 0.0003018 ]\n"
     ]
    }
   ],
   "source": [
    "mol.print_bond_angles()\n",
    "mol.print_bond_lengths()\n",
    "mol.print_oop_angles()\n",
    "mol.print_dihedral_angles()\n",
    "print('===Center of Mass===')\n",
    "print('{:3.8e} {:3.8e} {:3.8e}'.format(*mol.center_of_mass()))\n",
    "mol.print_moment_of_inertia()\n",
    "print(f'Type of inertia: {mol.type_of_inertia()}')\n",
    "print(f'Rotational constants in cm^-1: {mol.rotational_constants()}')\n",
    "print(f'Rotational constants in MHz: {mol.rotational_constants() / 1000}')"
   ]
  },
  {
   "cell_type": "code",
   "execution_count": null,
   "metadata": {},
   "outputs": [],
   "source": []
  }
 ],
 "metadata": {
  "kernelspec": {
   "display_name": "base",
   "language": "python",
   "name": "python3"
  },
  "language_info": {
   "codemirror_mode": {
    "name": "ipython",
    "version": 3
   },
   "file_extension": ".py",
   "mimetype": "text/x-python",
   "name": "python",
   "nbconvert_exporter": "python",
   "pygments_lexer": "ipython3",
   "version": "3.10.12"
  }
 },
 "nbformat": 4,
 "nbformat_minor": 2
}
